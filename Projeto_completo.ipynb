{
  "cells": [
    {
      "cell_type": "markdown",
      "metadata": {
        "id": "wRLQJ-w4CgYl"
      },
      "source": [
        "# Aula 1"
      ]
    },
    {
      "cell_type": "markdown",
      "metadata": {
        "id": "e6crW9ELCk9n"
      },
      "source": [
        "## Vídeo 1.2 - Biblioteca e os dados"
      ]
    },
    {
      "cell_type": "markdown",
      "metadata": {
        "id": "Rcf5ynlKbUPR"
      },
      "source": [
        "GeoPandas é uma biblioteca de código aberto em Python que facilita a manipulação e análise de dados geoespaciais. Ela estende a funcionalidade da biblioteca pandas, amplamente usada para manipulação de dados, adicionando suporte para operações geoespaciais. Isso inclui a capacidade de ler e escrever diferentes formatos de arquivo geoespaciais (como Shapefiles, GeoJSON, etc.), realizar operações geoespaciais (como união espacial, interseção, etc.), e criar visualizações geoespaciais. A GeoPandas integra-se bem com outras bibliotecas Python amplamente utilizadas, como Matplotlib para visualização e NumPy para manipulação de dados numéricos. Ao proporcionar uma interface de alto nível e fácil de usar para operações geoespaciais complexas, a GeoPandas tornou-se uma ferramenta importante para geocientistas, urbanistas e outros que trabalham com dados geoespaciais."
      ]
    },
    {
      "cell_type": "code",
      "execution_count": null,
      "metadata": {
        "id": "sLpUAIUWCKfD"
      },
      "outputs": [],
      "source": [
        "!pip install geopandas"
      ]
    },
    {
      "cell_type": "code",
      "execution_count": null,
      "metadata": {
        "id": "mMdKcour_9ms"
      },
      "outputs": [],
      "source": [
        "import geopandas as gpd"
      ]
    },
    {
      "cell_type": "markdown",
      "metadata": {
        "id": "c585__WCFtdK"
      },
      "source": [
        "https://www.ibge.gov.br/geociencias/organizacao-do-territorio/malhas-territoriais/15774-malhas.html"
      ]
    },
    {
      "cell_type": "code",
      "execution_count": null,
      "metadata": {
        "id": "hhWZNHG3IOIV"
      },
      "outputs": [],
      "source": [
        "url = 'https://github.com/alura-cursos/curso_geopandas/raw/main/dados/RJ_Municipios_2022.shp'"
      ]
    },
    {
      "cell_type": "code",
      "execution_count": null,
      "metadata": {
        "id": "2XEtxSAWCTia"
      },
      "outputs": [],
      "source": [
        "rj = gpd.read_file(url)"
      ]
    },
    {
      "cell_type": "code",
      "execution_count": null,
      "metadata": {
        "id": "2YqqOr5GIeEy"
      },
      "outputs": [],
      "source": [
        "type(rj)"
      ]
    },
    {
      "cell_type": "code",
      "execution_count": null,
      "metadata": {
        "id": "95LhpdgiIQ32"
      },
      "outputs": [],
      "source": [
        "rj.head()"
      ]
    },
    {
      "cell_type": "code",
      "execution_count": null,
      "metadata": {
        "id": "8DcBkm66IVpy"
      },
      "outputs": [],
      "source": [
        "rj.plot()"
      ]
    },
    {
      "cell_type": "code",
      "execution_count": null,
      "metadata": {
        "id": "IZTDrJ9FIyc8"
      },
      "outputs": [],
      "source": [
        "rj.plot(color='white',edgecolor='black',figsize=(15,8))"
      ]
    },
    {
      "cell_type": "markdown",
      "metadata": {
        "id": "Az0TMh4yR_pP"
      },
      "source": [
        "## Vídeo 1.3 - Trabalhando com Shapefiles"
      ]
    },
    {
      "cell_type": "markdown",
      "metadata": {
        "id": "HmZqpAQYa906"
      },
      "source": [
        "Shapefiles são um formato de arquivo de dados geoespaciais desenvolvido pela Esri, uma das principais empresas de software de Sistemas de Informação Geográfica (SIG). Eles são amplamente utilizados para armazenar dados de localização geográfica e atributos associados a essa localização. Um shapefile na verdade consiste em um conjunto de arquivos correlacionados (.shp, .shx, .dbf, e potencialmente outros) que juntos expressam vetores geoespaciais - pontos, linhas ou polígonos - juntamente com informações atributivas, que podem incluir detalhes como nomes, categorias e outras características associadas a cada entidade geográfica. Shapefiles são comumente usados em uma variedade de campos, incluindo urbanismo, geografia, logística, e muitos outros que requerem a análise e a visualização de dados geoespaciais."
      ]
    },
    {
      "cell_type": "code",
      "execution_count": null,
      "metadata": {
        "id": "T5VUCkewLHA4"
      },
      "outputs": [],
      "source": [
        "rj.plot(color='white',edgecolor='black',figsize=(15,8))"
      ]
    },
    {
      "cell_type": "code",
      "execution_count": null,
      "metadata": {
        "id": "i99Yoaq9TflW"
      },
      "outputs": [],
      "source": [
        "rj = rj[rj['NM_MUN']=='Rio de Janeiro']"
      ]
    },
    {
      "cell_type": "code",
      "execution_count": null,
      "metadata": {
        "id": "l8OtqBqJT-pQ"
      },
      "outputs": [],
      "source": [
        "rj"
      ]
    },
    {
      "cell_type": "code",
      "execution_count": null,
      "metadata": {
        "id": "KA_1Ob4ZUEOs"
      },
      "outputs": [],
      "source": [
        "rj.plot(color='orange',edgecolor='black',figsize=(15,8))"
      ]
    },
    {
      "cell_type": "code",
      "execution_count": null,
      "metadata": {
        "id": "lxQCpScEUhcw"
      },
      "outputs": [],
      "source": [
        "rj.to_file('RJ-MUNIC.shp')"
      ]
    },
    {
      "cell_type": "code",
      "execution_count": null,
      "metadata": {
        "id": "kfkiGRu4VDkw"
      },
      "outputs": [],
      "source": [
        "rj_munic = gpd.read_file('RJ-MUNIC.shp')"
      ]
    },
    {
      "cell_type": "code",
      "execution_count": null,
      "metadata": {
        "id": "DNSsEavIVTRL"
      },
      "outputs": [],
      "source": [
        "rj_munic.plot(color='orange',edgecolor='black',figsize=(15,8))"
      ]
    },
    {
      "cell_type": "markdown",
      "metadata": {
        "id": "SfRPcuVlVfM9"
      },
      "source": [
        "# Aula 2 - Sistemas de coordenadas\n"
      ]
    },
    {
      "cell_type": "markdown",
      "metadata": {
        "id": "ffymkxAPnnY_"
      },
      "source": [
        "## Vídeo 2.1 - Preparando o dataframe"
      ]
    },
    {
      "cell_type": "markdown",
      "metadata": {
        "id": "a6a_uXslsunS"
      },
      "source": [
        "Latitude e longitude são utilizadas para localizar qualquer ponto na Terra. Latitude é uma medida de graus ao norte ou ao sul do equador, que é definido como 0 grau, com os pólos norte e sul sendo +90 e -90 graus, respectivamente. Longitude, por outro lado, mede graus a leste ou oeste do meridiano principal, conhecido como Meridiano de Greenwich, que é definido como 0 grau. Os graus de longitude vão de -180 a +180. Combinando uma coordenada de latitude e uma de longitude, podemos especificar a localização exata de qualquer ponto na Terra.\n",
        "\n",
        "![](https://educa.ibge.gov.br/images/vamoscontar/atividades/mapa_mundo_coordenadas.jpg)\n",
        "\n",
        "Fonte: https://educa.ibge.gov.br/professores/educa-atividades/17650-linhas-imaginarias.html"
      ]
    },
    {
      "cell_type": "code",
      "execution_count": null,
      "metadata": {
        "id": "s6alAMOYpUFB"
      },
      "outputs": [],
      "source": [
        "import pandas as pd"
      ]
    },
    {
      "cell_type": "code",
      "execution_count": null,
      "metadata": {
        "id": "fy3IWXrdc-9L"
      },
      "outputs": [],
      "source": [
        "url = 'https://raw.githubusercontent.com/alura-cursos/curso_geopandas/main/dados/dados.csv'\n",
        "df = pd.read_csv(url,sep='\\t')"
      ]
    },
    {
      "cell_type": "code",
      "execution_count": null,
      "metadata": {
        "id": "jzR701Bgpc2H"
      },
      "outputs": [],
      "source": [
        "df.head()"
      ]
    },
    {
      "cell_type": "code",
      "execution_count": null,
      "metadata": {
        "id": "jYVPDVz0peOa"
      },
      "outputs": [],
      "source": [
        "type(df)"
      ]
    },
    {
      "cell_type": "code",
      "execution_count": null,
      "metadata": {
        "id": "FrH22izct350"
      },
      "outputs": [],
      "source": [
        "x = zip(df['Longitude'],df['Latitude'])\n",
        "x"
      ]
    },
    {
      "cell_type": "code",
      "execution_count": null,
      "metadata": {
        "id": "92B8Uwgdv4Fb"
      },
      "outputs": [],
      "source": [
        "list(x)"
      ]
    },
    {
      "cell_type": "code",
      "execution_count": null,
      "metadata": {},
      "outputs": [],
      "source": [
        "from shapely import Point"
      ]
    },
    {
      "cell_type": "code",
      "execution_count": null,
      "metadata": {
        "id": "iozCsuMTv7rk"
      },
      "outputs": [],
      "source": [
        "pontos_geometricos = [Point(x) for x in zip(df['Longitude'],df['Latitude'])]"
      ]
    },
    {
      "cell_type": "code",
      "execution_count": null,
      "metadata": {
        "id": "D0DVYSlewctn"
      },
      "outputs": [],
      "source": [
        "pontos_geometricos"
      ]
    },
    {
      "cell_type": "code",
      "execution_count": null,
      "metadata": {
        "id": "mujS6scRweLm"
      },
      "outputs": [],
      "source": [
        "crs = {'proj': 'latlong', 'ellps':'WGS84', 'datum': 'WGS84','no_defs':True}\n",
        "geo_dados = gpd.GeoDataFrame(df, crs=crs, geometry=pontos_geometricos)"
      ]
    },
    {
      "cell_type": "code",
      "execution_count": null,
      "metadata": {
        "id": "eMKBYTm11Ytu"
      },
      "outputs": [],
      "source": [
        "geo_dados.head()"
      ]
    },
    {
      "cell_type": "code",
      "execution_count": null,
      "metadata": {
        "id": "ACi-807V1cvB"
      },
      "outputs": [],
      "source": [
        "geo_dados.to_file('DATASET.shp')"
      ]
    },
    {
      "cell_type": "code",
      "execution_count": null,
      "metadata": {
        "id": "KgS-5ILp16vs"
      },
      "outputs": [],
      "source": [
        "geo_dados.plot(alpha=0.2)"
      ]
    },
    {
      "cell_type": "markdown",
      "metadata": {
        "id": "J2gIoNvX2dYg"
      },
      "source": [
        "## Vídeo 2.2 - Sistema de coordenadas"
      ]
    },
    {
      "cell_type": "code",
      "execution_count": null,
      "metadata": {
        "id": "g4uk4BP72JOr"
      },
      "outputs": [],
      "source": [
        "rj.crs"
      ]
    },
    {
      "cell_type": "code",
      "execution_count": null,
      "metadata": {
        "id": "F5_T1_X5KJAB"
      },
      "outputs": [],
      "source": [
        "geo_dados.crs"
      ]
    },
    {
      "cell_type": "markdown",
      "metadata": {
        "id": "oNXIWPlwdmsd"
      },
      "source": [
        "## Vídeo 2.3 - Modificando o sistemas de coordenadas"
      ]
    },
    {
      "cell_type": "markdown",
      "metadata": {
        "id": "wkvzcapNOfzT"
      },
      "source": [
        "🤖 Qual a zona UTM em que o município do Rio de Janeiro está inserido?\n",
        "\n",
        "R: Zona UTM 23S"
      ]
    },
    {
      "cell_type": "markdown",
      "metadata": {
        "id": "dnYqh3B4UpPa"
      },
      "source": [
        "🤖 Qual o EPSG para zona UTM 23S utilizando o SIRGAS 2000?\n",
        "\n",
        "R: EPSG 31983"
      ]
    },
    {
      "cell_type": "markdown",
      "metadata": {
        "id": "vfE65O1uaeu0"
      },
      "source": [
        "https://www.spatialreference.org/"
      ]
    },
    {
      "cell_type": "code",
      "execution_count": null,
      "metadata": {
        "id": "Y3y6DN-MNaCM"
      },
      "outputs": [],
      "source": [
        "rj = rj.to_crs('+proj=utm +zone=23 +south +ellps=GRS80 +towgs84=0,0,0,0,0,0,0 +units=km +no_defs')"
      ]
    },
    {
      "cell_type": "code",
      "execution_count": null,
      "metadata": {
        "id": "_DCH7ekScCY7"
      },
      "outputs": [],
      "source": [
        "geo_dados = geo_dados.to_crs('+proj=utm +zone=23 +south +ellps=GRS80 +towgs84=0,0,0,0,0,0,0 +units=km +no_defs')"
      ]
    },
    {
      "cell_type": "code",
      "execution_count": null,
      "metadata": {
        "id": "PTXeApkYcSQE"
      },
      "outputs": [],
      "source": [
        "rj.crs"
      ]
    },
    {
      "cell_type": "code",
      "execution_count": null,
      "metadata": {
        "id": "ZsSkFKRncXhB"
      },
      "outputs": [],
      "source": [
        "geo_dados.crs"
      ]
    },
    {
      "cell_type": "code",
      "execution_count": null,
      "metadata": {
        "id": "Ld62nmyNcZlh"
      },
      "outputs": [],
      "source": [
        "rj.plot()"
      ]
    },
    {
      "cell_type": "markdown",
      "metadata": {
        "id": "b_7HPSj0d5BW"
      },
      "source": [
        "# Aula 3 - Filtrando imóveis por região"
      ]
    },
    {
      "cell_type": "markdown",
      "metadata": {
        "id": "BAnQ9WW9ik0t"
      },
      "source": [
        "## Vídeo 3.1 - Identificando outliers"
      ]
    },
    {
      "cell_type": "code",
      "execution_count": null,
      "metadata": {
        "id": "74PtDY6hhA24"
      },
      "outputs": [],
      "source": [
        "base = rj.plot(color='black',edgecolor='black',figsize=(15,10))\n",
        "geo_dados.plot(ax=base,figsize=(15,10),alpha=0.2)"
      ]
    },
    {
      "cell_type": "code",
      "execution_count": null,
      "metadata": {
        "id": "dzhvEpphhRs7"
      },
      "outputs": [],
      "source": [
        "rj.iloc[0].geometry"
      ]
    },
    {
      "cell_type": "code",
      "execution_count": null,
      "metadata": {
        "id": "ob_UpC_Dh75v"
      },
      "outputs": [],
      "source": [
        "geo_dados.iloc[0].geometry"
      ]
    },
    {
      "cell_type": "code",
      "execution_count": null,
      "metadata": {
        "id": "TlAr4kI-iBYD"
      },
      "outputs": [],
      "source": [
        "geo_dados.iloc[0].geometry.within(rj.iloc[0].geometry)"
      ]
    },
    {
      "cell_type": "markdown",
      "metadata": {
        "id": "5gYBHFBRokWO"
      },
      "source": [
        "## Vídeo 3.2 - Selecionando dados em uma região"
      ]
    },
    {
      "cell_type": "code",
      "execution_count": null,
      "metadata": {
        "id": "5qLkhHYfieUH"
      },
      "outputs": [],
      "source": [
        "geo_dados['geometry'].within(rj.iloc[0].geometry)"
      ]
    },
    {
      "cell_type": "code",
      "execution_count": null,
      "metadata": {
        "id": "KAYHHXPsqFOf"
      },
      "outputs": [],
      "source": [
        "geo_dados.shape[0]"
      ]
    },
    {
      "cell_type": "code",
      "execution_count": null,
      "metadata": {
        "id": "URCipRgFq0e8"
      },
      "outputs": [],
      "source": [
        "geo_dados = geo_dados[geo_dados['geometry'].within(rj.iloc[0].geometry)]"
      ]
    },
    {
      "cell_type": "code",
      "execution_count": null,
      "metadata": {
        "id": "CEFsfldKq9Z6"
      },
      "outputs": [],
      "source": [
        "geo_dados.shape[0]"
      ]
    },
    {
      "cell_type": "code",
      "execution_count": null,
      "metadata": {
        "id": "Xtauxg2OrLQy"
      },
      "outputs": [],
      "source": [
        "base = rj.plot(color='white',edgecolor='black',figsize=(15,10))\n",
        "geo_dados.plot(ax=base,figsize=(15,10),alpha=0.2)"
      ]
    },
    {
      "cell_type": "markdown",
      "metadata": {
        "id": "wq7bATBqrkb7"
      },
      "source": [
        "## Vídeo 3.3 - Acrescentando estações do metrô"
      ]
    },
    {
      "cell_type": "markdown",
      "metadata": {
        "id": "a1t7QTjZJ3SS"
      },
      "source": [
        "https://www.data.rio/"
      ]
    },
    {
      "cell_type": "markdown",
      "metadata": {
        "id": "2k6og6m-Khdi"
      },
      "source": [
        "https://www.data.rio/datasets/PCRJ::esta%C3%A7%C3%B5es-metr%C3%B4/explore?location=-22.843796%2C-43.262511%2C11.95"
      ]
    },
    {
      "cell_type": "code",
      "execution_count": null,
      "metadata": {
        "id": "nUxuIOVarOew"
      },
      "outputs": [],
      "source": [
        "url_m = 'https://github.com/alura-cursos/curso_geopandas/raw/main/dados/metro.geojson'"
      ]
    },
    {
      "cell_type": "code",
      "execution_count": null,
      "metadata": {
        "id": "L81jKwBpQAsQ"
      },
      "outputs": [],
      "source": [
        "metro = gpd.read_file(url_m)"
      ]
    },
    {
      "cell_type": "code",
      "execution_count": null,
      "metadata": {
        "id": "ilhjwZMjQEpw"
      },
      "outputs": [],
      "source": [
        "metro.crs"
      ]
    },
    {
      "cell_type": "code",
      "execution_count": null,
      "metadata": {
        "id": "C7RAm7LfTl5n"
      },
      "outputs": [],
      "source": [
        "metro = metro.to_crs('+proj=utm +zone=23 +south +ellps=GRS80 +towgs84=0,0,0,0,0,0,0 +units=km +no_defs')"
      ]
    },
    {
      "cell_type": "code",
      "execution_count": null,
      "metadata": {
        "id": "L4wvLsOnT4vA"
      },
      "outputs": [],
      "source": [
        "metro.crs"
      ]
    },
    {
      "cell_type": "code",
      "execution_count": null,
      "metadata": {
        "id": "TdwRRCmVT8n2"
      },
      "outputs": [],
      "source": [
        "base = rj.plot(color='white',edgecolor='black',figsize=(15,10))\n",
        "geo_dados.plot(ax=base,figsize=(15,10),alpha=0.2)\n",
        "metro.plot(ax=base, color='red',markersize=50)"
      ]
    },
    {
      "cell_type": "markdown",
      "metadata": {
        "id": "78enOeoYVBOR"
      },
      "source": [
        "# Aula 4 - Calculando distâncias"
      ]
    },
    {
      "cell_type": "markdown",
      "metadata": {
        "id": "NxWLz3HWVEBA"
      },
      "source": [
        "## Vídeo 4.1 - Estação do metrô mais próxima"
      ]
    },
    {
      "cell_type": "code",
      "execution_count": null,
      "metadata": {
        "id": "avvBdeksUfjX"
      },
      "outputs": [],
      "source": [
        "geo_dados.iloc[0].geometry"
      ]
    },
    {
      "cell_type": "code",
      "execution_count": null,
      "metadata": {
        "id": "DkvGoOc9Xof-"
      },
      "outputs": [],
      "source": [
        "distancias = metro.distance(geo_dados.iloc[0].geometry)"
      ]
    },
    {
      "cell_type": "code",
      "execution_count": null,
      "metadata": {
        "id": "5STQXYGoX3qu"
      },
      "outputs": [],
      "source": [
        "type(distancias)"
      ]
    },
    {
      "cell_type": "code",
      "execution_count": null,
      "metadata": {
        "id": "LvkRDmtOX5M1"
      },
      "outputs": [],
      "source": [
        "distancias.min()"
      ]
    },
    {
      "cell_type": "code",
      "execution_count": null,
      "metadata": {
        "id": "Vnp3JWKSYJ7e"
      },
      "outputs": [],
      "source": [
        "geo_dados['Dist_metro'] = geo_dados['geometry'].apply(lambda x: metro.distance(x).min())"
      ]
    },
    {
      "cell_type": "code",
      "execution_count": null,
      "metadata": {
        "id": "V8dxYSw0uVlx"
      },
      "outputs": [],
      "source": [
        "geo_dados.head()"
      ]
    },
    {
      "cell_type": "code",
      "execution_count": null,
      "metadata": {
        "id": "Z67sbULRvj6G"
      },
      "outputs": [],
      "source": [
        "import numpy as np\n",
        "geo_dados_num = geo_dados.select_dtypes(include=[np.number])\n",
        "correlacao = geo_dados_num.corr()"
      ]
    },
    {
      "cell_type": "code",
      "execution_count": null,
      "metadata": {
        "id": "jHCVZsvbv_4m"
      },
      "outputs": [],
      "source": [
        "import seaborn as sns\n",
        "sns.heatmap(correlacao, annot=True, cmap='RdYlBu', linewidths=0.5)"
      ]
    },
    {
      "cell_type": "markdown",
      "metadata": {
        "id": "vFwvaopFyG_N"
      },
      "source": [
        "## Vídeo 4.2 - Agregando dados de transportes"
      ]
    },
    {
      "cell_type": "code",
      "execution_count": null,
      "metadata": {
        "id": "EuLnuTMqwFcm"
      },
      "outputs": [],
      "source": [
        "url_t = 'https://github.com/alura-cursos/curso_geopandas/raw/main/dados/trem.geojson'"
      ]
    },
    {
      "cell_type": "code",
      "execution_count": null,
      "metadata": {
        "id": "WT_SQTPqE1Nw"
      },
      "outputs": [],
      "source": [
        "trem = gpd.read_file(url_t)\n",
        "trem = trem.to_crs('+proj=utm +zone=23 +south +ellps=GRS80 +towgs84=0,0,0,0,0,0,0 +units=km +no_defs')"
      ]
    },
    {
      "cell_type": "code",
      "execution_count": null,
      "metadata": {
        "id": "du2i0PtBF0CS"
      },
      "outputs": [],
      "source": [
        "url_b = 'https://github.com/alura-cursos/curso_geopandas/raw/main/dados/brt.geojson'\n",
        "\n",
        "brt = gpd.read_file(url_b)\n",
        "brt = brt.to_crs('+proj=utm +zone=23 +south +ellps=GRS80 +towgs84=0,0,0,0,0,0,0 +units=km +no_defs')"
      ]
    },
    {
      "cell_type": "code",
      "execution_count": null,
      "metadata": {
        "id": "eyawVmIHaDf6"
      },
      "outputs": [],
      "source": [
        "trem = trem[trem.within(rj.iloc[0].geometry)]\n",
        "brt = brt[brt.within(rj.iloc[0].geometry)]"
      ]
    },
    {
      "cell_type": "code",
      "execution_count": null,
      "metadata": {
        "id": "DeKnpv5NXrCY"
      },
      "outputs": [],
      "source": [
        "base = rj.plot(color='white',edgecolor='black',figsize=(15,10))\n",
        "geo_dados.plot(ax=base,figsize=(15,10),alpha=0.2)\n",
        "metro.plot(ax=base, color='#b60a1c',markersize=50)\n",
        "trem.plot(ax=base, color='#e39802',markersize=50)\n",
        "brt.plot(ax=base, color='#309143',markersize=50)\n",
        "\n",
        "base.legend(['Imóveis','Metrô','Trem','BRT'],loc='upper left')"
      ]
    },
    {
      "cell_type": "code",
      "execution_count": null,
      "metadata": {
        "id": "tNWHIfGmZeKM"
      },
      "outputs": [],
      "source": [
        "transporte = pd.concat([trem.geometry,metro.geometry,brt.geometry],ignore_index = True)"
      ]
    },
    {
      "cell_type": "code",
      "execution_count": null,
      "metadata": {
        "id": "0gd7GLbXzyrN"
      },
      "outputs": [],
      "source": [
        "type(transporte)"
      ]
    },
    {
      "cell_type": "code",
      "execution_count": null,
      "metadata": {
        "id": "jLJk3ta8hmjn"
      },
      "outputs": [],
      "source": [
        "geo_dados['Dist_Transporte'] = geo_dados['geometry'].apply(lambda x: transporte.distance(x).min())"
      ]
    },
    {
      "cell_type": "code",
      "execution_count": null,
      "metadata": {
        "id": "xWQlwJQyi59M"
      },
      "outputs": [],
      "source": [
        "geo_dados.head()"
      ]
    },
    {
      "cell_type": "code",
      "execution_count": null,
      "metadata": {
        "id": "d7ImHoHujElm"
      },
      "outputs": [],
      "source": [
        "geo_dados_num = geo_dados.select_dtypes(include=[np.number])\n",
        "correlacao = geo_dados_num.corr()"
      ]
    },
    {
      "cell_type": "code",
      "execution_count": null,
      "metadata": {
        "id": "Qo9Ay_E7jFYN"
      },
      "outputs": [],
      "source": [
        "sns.heatmap(correlacao, annot=True, cmap='RdYlBu', linewidths=0.5)"
      ]
    },
    {
      "cell_type": "markdown",
      "metadata": {
        "id": "oJl1jSrg6ffE"
      },
      "source": [
        "## Vídeo 4.3 - Calculando a distância até a praia"
      ]
    },
    {
      "cell_type": "code",
      "execution_count": null,
      "metadata": {
        "id": "OLAFTSCMmXRR"
      },
      "outputs": [],
      "source": [
        "url_p = '/content/drive/MyDrive/Alura/Cursos/3060 - Dados Geográficos: Geopandas/Cobertura_Vegetal_e_Uso_da_Terra_2018.geojson'"
      ]
    },
    {
      "cell_type": "code",
      "execution_count": null,
      "metadata": {
        "id": "DkNhBA0j3gDb"
      },
      "outputs": [],
      "source": [
        "praias = gpd.read_file(url_p)"
      ]
    },
    {
      "cell_type": "code",
      "execution_count": null,
      "metadata": {
        "id": "FpHwtZYJ6k1o"
      },
      "outputs": [],
      "source": [
        "praias.head()"
      ]
    },
    {
      "cell_type": "code",
      "execution_count": null,
      "metadata": {
        "id": "jQFslMt76q37"
      },
      "outputs": [],
      "source": [
        "praias.crs"
      ]
    },
    {
      "cell_type": "code",
      "execution_count": null,
      "metadata": {
        "id": "a9hR_cIc9SmS"
      },
      "outputs": [],
      "source": [
        "praias = praias.to_crs('+proj=utm +zone=23 +south +ellps=GRS80 +towgs84=0,0,0,0,0,0,0 +units=km +no_defs')"
      ]
    },
    {
      "cell_type": "code",
      "execution_count": null,
      "metadata": {
        "id": "C5l6hSYs9oeW"
      },
      "outputs": [],
      "source": [
        "praias.crs"
      ]
    },
    {
      "cell_type": "code",
      "execution_count": null,
      "metadata": {
        "id": "tMF1B-xx9qtV"
      },
      "outputs": [],
      "source": [
        "praias.plot(color='white',edgecolor='black',figsize=(15,8))"
      ]
    },
    {
      "cell_type": "code",
      "execution_count": null,
      "metadata": {
        "id": "cgSTKJbH9ukR"
      },
      "outputs": [],
      "source": [
        "praias['classe'].unique()"
      ]
    },
    {
      "cell_type": "code",
      "execution_count": null,
      "metadata": {
        "id": "HcxLoRtE93mW"
      },
      "outputs": [],
      "source": [
        "praias = praias[praias['classe'] == 'Praia']"
      ]
    },
    {
      "cell_type": "code",
      "execution_count": null,
      "metadata": {
        "id": "rtoakGxH-ODs"
      },
      "outputs": [],
      "source": [
        "praias.plot(color='white',edgecolor='black',figsize=(15,8))"
      ]
    },
    {
      "cell_type": "code",
      "execution_count": null,
      "metadata": {
        "id": "PvLPFFx0-PxD"
      },
      "outputs": [],
      "source": [
        "base = rj.plot(color='white',edgecolor='black',alpha=0.4,figsize=(15,10))\n",
        "praias.plot(ax=base,color='white',edgecolor='black')\n",
        "geo_dados.plot(ax=base,figsize=(15,10),alpha=0.2)"
      ]
    },
    {
      "cell_type": "code",
      "execution_count": null,
      "metadata": {
        "id": "KanReBc7_6KX"
      },
      "outputs": [],
      "source": [
        "geo_dados['Dist_Praia'] = geo_dados['geometry'].apply(lambda x: praias.distance(x).min())"
      ]
    },
    {
      "cell_type": "code",
      "execution_count": null,
      "metadata": {
        "id": "LDaydD78CtWQ"
      },
      "outputs": [],
      "source": [
        "geo_dados_num = geo_dados.select_dtypes(include=[np.number])\n",
        "correlacao = geo_dados_num.corr()"
      ]
    },
    {
      "cell_type": "code",
      "execution_count": null,
      "metadata": {
        "id": "sMacVlZHEGNt"
      },
      "outputs": [],
      "source": [
        "sns.heatmap(correlacao, annot=True, cmap='RdYlBu', linewidths=0.5)"
      ]
    },
    {
      "cell_type": "code",
      "execution_count": null,
      "metadata": {
        "id": "RuUYzCkQEKTR"
      },
      "outputs": [],
      "source": [
        "sns.scatterplot(x='Dist_Praia',y='Valor',data=geo_dados)"
      ]
    }
  ],
  "metadata": {
    "colab": {
      "provenance": []
    },
    "kernelspec": {
      "display_name": "Python 3",
      "name": "python3"
    },
    "language_info": {
      "name": "python"
    }
  },
  "nbformat": 4,
  "nbformat_minor": 0
}
